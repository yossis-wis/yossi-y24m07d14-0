{
 "cells": [
  {
   "cell_type": "code",
   "execution_count": 6,
   "metadata": {},
   "outputs": [],
   "source": [
    "import time\n",
    "import sys\n",
    "from pymata4 import pymata4"
   ]
  },
  {
   "cell_type": "code",
   "execution_count": 8,
   "metadata": {},
   "outputs": [
    {
     "name": "stdout",
     "output_type": "stream",
     "text": [
      "pymata4:  Version 1.15\n",
      "\n",
      "Copyright (c) 2020 Alan Yorinks All Rights Reserved.\n",
      "\n",
      "Opening COM4...\n"
     ]
    },
    {
     "ename": "SerialException",
     "evalue": "could not open port 'COM4': PermissionError(13, 'Access is denied.', None, 5)",
     "output_type": "error",
     "traceback": [
      "\u001b[1;31m---------------------------------------------------------------------------\u001b[0m",
      "\u001b[1;31mSerialException\u001b[0m                           Traceback (most recent call last)",
      "Cell \u001b[1;32mIn[8], line 1\u001b[0m\n\u001b[1;32m----> 1\u001b[0m board \u001b[38;5;241m=\u001b[39m \u001b[43mpymata4\u001b[49m\u001b[38;5;241;43m.\u001b[39;49m\u001b[43mPymata4\u001b[49m\u001b[43m(\u001b[49m\u001b[43mcom_port\u001b[49m\u001b[38;5;241;43m=\u001b[39;49m\u001b[38;5;124;43m\"\u001b[39;49m\u001b[38;5;124;43mCOM4\u001b[39;49m\u001b[38;5;124;43m\"\u001b[39;49m\u001b[43m)\u001b[49m\n",
      "File \u001b[1;32mc:\\Users\\itclass08\\AppData\\Local\\anaconda3\\envs\\intro-lab\\Lib\\site-packages\\pymata4\\pymata4.py:242\u001b[0m, in \u001b[0;36mPymata4.__init__\u001b[1;34m(self, com_port, baud_rate, arduino_instance_id, arduino_wait, sleep_tune, shutdown_on_exception, ip_address, ip_port)\u001b[0m\n\u001b[0;32m    239\u001b[0m \u001b[38;5;28;01melse\u001b[39;00m:\n\u001b[0;32m    240\u001b[0m     \u001b[38;5;66;03m# com_port specified - set com_port and baud rate\u001b[39;00m\n\u001b[0;32m    241\u001b[0m     \u001b[38;5;28;01mtry\u001b[39;00m:\n\u001b[1;32m--> 242\u001b[0m         \u001b[38;5;28;43mself\u001b[39;49m\u001b[38;5;241;43m.\u001b[39;49m\u001b[43m_manual_open\u001b[49m\u001b[43m(\u001b[49m\u001b[43m)\u001b[49m\n\u001b[0;32m    243\u001b[0m     \u001b[38;5;28;01mexcept\u001b[39;00m \u001b[38;5;167;01mKeyboardInterrupt\u001b[39;00m:\n\u001b[0;32m    244\u001b[0m         \u001b[38;5;28;01mif\u001b[39;00m \u001b[38;5;28mself\u001b[39m\u001b[38;5;241m.\u001b[39mshutdown_on_exception:\n",
      "File \u001b[1;32mc:\\Users\\itclass08\\AppData\\Local\\anaconda3\\envs\\intro-lab\\Lib\\site-packages\\pymata4\\pymata4.py:417\u001b[0m, in \u001b[0;36mPymata4._manual_open\u001b[1;34m(self)\u001b[0m\n\u001b[0;32m    415\u001b[0m \u001b[38;5;28;01mtry\u001b[39;00m:\n\u001b[0;32m    416\u001b[0m     \u001b[38;5;28mprint\u001b[39m(\u001b[38;5;124mf\u001b[39m\u001b[38;5;124m'\u001b[39m\u001b[38;5;124mOpening \u001b[39m\u001b[38;5;132;01m{\u001b[39;00m\u001b[38;5;28mself\u001b[39m\u001b[38;5;241m.\u001b[39mcom_port\u001b[38;5;132;01m}\u001b[39;00m\u001b[38;5;124m...\u001b[39m\u001b[38;5;124m'\u001b[39m)\n\u001b[1;32m--> 417\u001b[0m     \u001b[38;5;28mself\u001b[39m\u001b[38;5;241m.\u001b[39mserial_port \u001b[38;5;241m=\u001b[39m \u001b[43mserial\u001b[49m\u001b[38;5;241;43m.\u001b[39;49m\u001b[43mSerial\u001b[49m\u001b[43m(\u001b[49m\u001b[38;5;28;43mself\u001b[39;49m\u001b[38;5;241;43m.\u001b[39;49m\u001b[43mcom_port\u001b[49m\u001b[43m,\u001b[49m\u001b[43m \u001b[49m\u001b[38;5;28;43mself\u001b[39;49m\u001b[38;5;241;43m.\u001b[39;49m\u001b[43mbaud_rate\u001b[49m\u001b[43m,\u001b[49m\n\u001b[0;32m    418\u001b[0m \u001b[43m                                     \u001b[49m\u001b[43mtimeout\u001b[49m\u001b[38;5;241;43m=\u001b[39;49m\u001b[38;5;241;43m1\u001b[39;49m\u001b[43m,\u001b[49m\u001b[43m \u001b[49m\u001b[43mwriteTimeout\u001b[49m\u001b[38;5;241;43m=\u001b[39;49m\u001b[38;5;241;43m0\u001b[39;49m\u001b[43m)\u001b[49m\n\u001b[0;32m    420\u001b[0m     \u001b[38;5;28mprint\u001b[39m(\u001b[38;5;124mf\u001b[39m\u001b[38;5;124m'\u001b[39m\u001b[38;5;130;01m\\n\u001b[39;00m\u001b[38;5;124mWaiting \u001b[39m\u001b[38;5;132;01m{\u001b[39;00m\u001b[38;5;28mself\u001b[39m\u001b[38;5;241m.\u001b[39marduino_wait\u001b[38;5;132;01m}\u001b[39;00m\u001b[38;5;124m seconds(arduino_wait) for Arduino devices to \u001b[39m\u001b[38;5;124m'\u001b[39m\n\u001b[0;32m    421\u001b[0m           \u001b[38;5;124m'\u001b[39m\u001b[38;5;124mreset...\u001b[39m\u001b[38;5;124m'\u001b[39m)\n\u001b[0;32m    422\u001b[0m     time\u001b[38;5;241m.\u001b[39msleep(\u001b[38;5;28mself\u001b[39m\u001b[38;5;241m.\u001b[39marduino_wait)\n",
      "File \u001b[1;32mc:\\Users\\itclass08\\AppData\\Local\\anaconda3\\envs\\intro-lab\\Lib\\site-packages\\serial\\serialwin32.py:33\u001b[0m, in \u001b[0;36mSerial.__init__\u001b[1;34m(self, *args, **kwargs)\u001b[0m\n\u001b[0;32m     31\u001b[0m \u001b[38;5;28mself\u001b[39m\u001b[38;5;241m.\u001b[39m_overlapped_read \u001b[38;5;241m=\u001b[39m \u001b[38;5;28;01mNone\u001b[39;00m\n\u001b[0;32m     32\u001b[0m \u001b[38;5;28mself\u001b[39m\u001b[38;5;241m.\u001b[39m_overlapped_write \u001b[38;5;241m=\u001b[39m \u001b[38;5;28;01mNone\u001b[39;00m\n\u001b[1;32m---> 33\u001b[0m \u001b[38;5;28;43msuper\u001b[39;49m\u001b[43m(\u001b[49m\u001b[43mSerial\u001b[49m\u001b[43m,\u001b[49m\u001b[43m \u001b[49m\u001b[38;5;28;43mself\u001b[39;49m\u001b[43m)\u001b[49m\u001b[38;5;241;43m.\u001b[39;49m\u001b[38;5;21;43m__init__\u001b[39;49m\u001b[43m(\u001b[49m\u001b[38;5;241;43m*\u001b[39;49m\u001b[43margs\u001b[49m\u001b[43m,\u001b[49m\u001b[43m \u001b[49m\u001b[38;5;241;43m*\u001b[39;49m\u001b[38;5;241;43m*\u001b[39;49m\u001b[43mkwargs\u001b[49m\u001b[43m)\u001b[49m\n",
      "File \u001b[1;32mc:\\Users\\itclass08\\AppData\\Local\\anaconda3\\envs\\intro-lab\\Lib\\site-packages\\serial\\serialutil.py:244\u001b[0m, in \u001b[0;36mSerialBase.__init__\u001b[1;34m(self, port, baudrate, bytesize, parity, stopbits, timeout, xonxoff, rtscts, write_timeout, dsrdtr, inter_byte_timeout, exclusive, **kwargs)\u001b[0m\n\u001b[0;32m    241\u001b[0m     \u001b[38;5;28;01mraise\u001b[39;00m \u001b[38;5;167;01mValueError\u001b[39;00m(\u001b[38;5;124m'\u001b[39m\u001b[38;5;124munexpected keyword arguments: \u001b[39m\u001b[38;5;132;01m{!r}\u001b[39;00m\u001b[38;5;124m'\u001b[39m\u001b[38;5;241m.\u001b[39mformat(kwargs))\n\u001b[0;32m    243\u001b[0m \u001b[38;5;28;01mif\u001b[39;00m port \u001b[38;5;129;01mis\u001b[39;00m \u001b[38;5;129;01mnot\u001b[39;00m \u001b[38;5;28;01mNone\u001b[39;00m:\n\u001b[1;32m--> 244\u001b[0m     \u001b[38;5;28;43mself\u001b[39;49m\u001b[38;5;241;43m.\u001b[39;49m\u001b[43mopen\u001b[49m\u001b[43m(\u001b[49m\u001b[43m)\u001b[49m\n",
      "File \u001b[1;32mc:\\Users\\itclass08\\AppData\\Local\\anaconda3\\envs\\intro-lab\\Lib\\site-packages\\serial\\serialwin32.py:64\u001b[0m, in \u001b[0;36mSerial.open\u001b[1;34m(self)\u001b[0m\n\u001b[0;32m     62\u001b[0m \u001b[38;5;28;01mif\u001b[39;00m \u001b[38;5;28mself\u001b[39m\u001b[38;5;241m.\u001b[39m_port_handle \u001b[38;5;241m==\u001b[39m win32\u001b[38;5;241m.\u001b[39mINVALID_HANDLE_VALUE:\n\u001b[0;32m     63\u001b[0m     \u001b[38;5;28mself\u001b[39m\u001b[38;5;241m.\u001b[39m_port_handle \u001b[38;5;241m=\u001b[39m \u001b[38;5;28;01mNone\u001b[39;00m    \u001b[38;5;66;03m# 'cause __del__ is called anyway\u001b[39;00m\n\u001b[1;32m---> 64\u001b[0m     \u001b[38;5;28;01mraise\u001b[39;00m SerialException(\u001b[38;5;124m\"\u001b[39m\u001b[38;5;124mcould not open port \u001b[39m\u001b[38;5;132;01m{!r}\u001b[39;00m\u001b[38;5;124m: \u001b[39m\u001b[38;5;132;01m{!r}\u001b[39;00m\u001b[38;5;124m\"\u001b[39m\u001b[38;5;241m.\u001b[39mformat(\u001b[38;5;28mself\u001b[39m\u001b[38;5;241m.\u001b[39mportstr, ctypes\u001b[38;5;241m.\u001b[39mWinError()))\n\u001b[0;32m     66\u001b[0m \u001b[38;5;28;01mtry\u001b[39;00m:\n\u001b[0;32m     67\u001b[0m     \u001b[38;5;28mself\u001b[39m\u001b[38;5;241m.\u001b[39m_overlapped_read \u001b[38;5;241m=\u001b[39m win32\u001b[38;5;241m.\u001b[39mOVERLAPPED()\n",
      "\u001b[1;31mSerialException\u001b[0m: could not open port 'COM4': PermissionError(13, 'Access is denied.', None, 5)"
     ]
    }
   ],
   "source": [
    "board = pymata4.Pymata4(com_port=\"COM4\")"
   ]
  },
  {
   "cell_type": "code",
   "execution_count": 3,
   "metadata": {},
   "outputs": [],
   "source": [
    "DIGITAL_PIN = 6  # Arduino pin number\n",
    "LED_PIN = 4\n",
    "\n",
    "POLL_TIME = 5  # Number of seconds between polls\n",
    "\n",
    "CB_PIN_MODE = 0\n",
    "CB_PIN = 1\n",
    "CB_VALUE = 2\n",
    "CB_TIME = 3\n",
    "\n",
    "\n",
    "# board.set_pin_mode_digital_output(LED_PIN)\n"
   ]
  },
  {
   "cell_type": "code",
   "execution_count": null,
   "metadata": {},
   "outputs": [],
   "source": [
    "def the_callback(data):\n",
    "    \"\"\"\n",
    "    A callback function to report data changes.\n",
    "    This will print the pin number, its reported value and\n",
    "    the date and time when the change occurred\n",
    "\n",
    "    :param data: [pin, current reported value, pin_mode, timestamp]\n",
    "    \"\"\"\n",
    "    date = time.strftime('%Y-%m-%d %H:%M:%S', time.localtime(data[CB_TIME]))\n",
    "    print(f'Pin: {data[CB_PIN]} Value: {data[CB_VALUE]} Time Stamp: {date}')"
   ]
  },
  {
   "cell_type": "code",
   "execution_count": null,
   "metadata": {},
   "outputs": [],
   "source": [
    "def digital_in(my_board, pin):\n",
    "    \"\"\"\n",
    "    This function establishes the pin as a\n",
    "    digital input. Any changes on this pin will\n",
    "    be reported through the call back function.\n",
    "\n",
    "    :param my_board: a pymata_express instance\n",
    "    :param pin: Arduino pin number\n",
    "    \"\"\"\n",
    "\n",
    "    # Set the pin mode\n",
    "    my_board.set_pin_mode_digital_input(pin, callback=the_callback)\n",
    "\n",
    "    while True:\n",
    "        try:\n",
    "            # Do a read of the last value reported every 5 seconds and print it\n",
    "            value, time_stamp = my_board.digital_read(pin)\n",
    "            date = time.strftime('%Y-%m-%d %H:%M:%S', time.localtime(time_stamp))\n",
    "            print(f'Polling - last value: {value} received on {date}')\n",
    "            time.sleep(POLL_TIME)\n",
    "        except KeyboardInterrupt:\n",
    "            board.shutdown()\n",
    "            sys.exit(0)\n"
   ]
  },
  {
   "cell_type": "code",
   "execution_count": null,
   "metadata": {},
   "outputs": [],
   "source": [
    "board = pymata4.Pymata4()\n",
    "# board.digital_write(LED_PIN,1)\n",
    "\n",
    "try:\n",
    "    digital_in(board, DIGITAL_PIN)\n",
    "except KeyboardInterrupt:\n",
    "    board.shutdown()\n",
    "    sys.exit(0)\n"
   ]
  },
  {
   "cell_type": "code",
   "execution_count": 6,
   "metadata": {},
   "outputs": [],
   "source": [
    "board.shutdown()"
   ]
  }
 ],
 "metadata": {
  "kernelspec": {
   "display_name": "stepper1",
   "language": "python",
   "name": "python3"
  },
  "language_info": {
   "codemirror_mode": {
    "name": "ipython",
    "version": 3
   },
   "file_extension": ".py",
   "mimetype": "text/x-python",
   "name": "python",
   "nbconvert_exporter": "python",
   "pygments_lexer": "ipython3",
   "version": "3.11.9"
  }
 },
 "nbformat": 4,
 "nbformat_minor": 2
}
