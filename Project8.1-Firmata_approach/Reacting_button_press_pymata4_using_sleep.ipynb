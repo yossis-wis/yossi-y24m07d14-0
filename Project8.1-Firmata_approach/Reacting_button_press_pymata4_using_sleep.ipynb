{
 "cells": [
  {
   "cell_type": "code",
   "execution_count": 2,
   "metadata": {},
   "outputs": [],
   "source": [
    "import time\n",
    "import sys\n",
    "from pymata4 import pymata4"
   ]
  },
  {
   "cell_type": "code",
   "execution_count": 3,
   "metadata": {},
   "outputs": [
    {
     "name": "stdout",
     "output_type": "stream",
     "text": [
      "pymata4:  Version 1.15\n",
      "\n",
      "Copyright (c) 2020 Alan Yorinks All Rights Reserved.\n",
      "\n",
      "Opening COM4...\n",
      "\n",
      "Waiting 4 seconds(arduino_wait) for Arduino devices to reset...\n",
      "Arduino compatible device found and connected to COM4\n",
      "\n",
      "Retrieving Arduino Firmware ID...\n",
      "Arduino Firmware ID: 1.2 FirmataExpress.ino\n",
      "\n",
      "Retrieving analog map...\n",
      "Auto-discovery complete. Found 20 Digital Pins and 6 Analog Pins\n",
      "\n",
      "\n"
     ]
    }
   ],
   "source": [
    "board = pymata4.Pymata4(com_port=\"COM4\")"
   ]
  },
  {
   "cell_type": "code",
   "execution_count": 4,
   "metadata": {},
   "outputs": [],
   "source": [
    "DIGITAL_PIN = 6  # Arduino pin number\n",
    "LED_PIN = 4\n",
    "\n",
    "POLL_TIME = 5  # Number of seconds between polls\n",
    "\n",
    "CB_PIN_MODE = 0\n",
    "CB_PIN = 1\n",
    "CB_VALUE = 2\n",
    "CB_TIME = 3\n",
    "\n",
    "\n",
    "# board.set_pin_mode_digital_output(LED_PIN)\n"
   ]
  },
  {
   "cell_type": "code",
   "execution_count": 5,
   "metadata": {},
   "outputs": [],
   "source": [
    "def the_callback(data):\n",
    "    \"\"\"\n",
    "    A callback function to report data changes.\n",
    "    This will print the pin number, its reported value and\n",
    "    the date and time when the change occurred\n",
    "\n",
    "    :param data: [pin, current reported value, pin_mode, timestamp]\n",
    "    \"\"\"\n",
    "    date = time.strftime('%Y-%m-%d %H:%M:%S', time.localtime(data[CB_TIME]))\n",
    "    print(f'Pin: {data[CB_PIN]} Value: {data[CB_VALUE]} Time Stamp: {date}')"
   ]
  },
  {
   "cell_type": "code",
   "execution_count": 6,
   "metadata": {},
   "outputs": [],
   "source": [
    "def digital_in(my_board, pin):\n",
    "    \"\"\"\n",
    "    This function establishes the pin as a\n",
    "    digital input. Any changes on this pin will\n",
    "    be reported through the call back function.\n",
    "\n",
    "    :param my_board: a pymata_express instance\n",
    "    :param pin: Arduino pin number\n",
    "    \"\"\"\n",
    "\n",
    "    # Set the pin mode\n",
    "    my_board.set_pin_mode_digital_input(pin, callback=the_callback)\n",
    "\n",
    "    while True:\n",
    "        try:\n",
    "            # Do a read of the last value reported every 5 seconds and print it\n",
    "            value, time_stamp = my_board.digital_read(pin)\n",
    "            date = time.strftime('%Y-%m-%d %H:%M:%S', time.localtime(time_stamp))\n",
    "            print(f'Polling - last value: {value} received on {date}')\n",
    "            time.sleep(POLL_TIME)\n",
    "        except KeyboardInterrupt:\n",
    "            board.shutdown()\n",
    "            sys.exit(0)\n"
   ]
  },
  {
   "cell_type": "code",
   "execution_count": 7,
   "metadata": {},
   "outputs": [
    {
     "name": "stdout",
     "output_type": "stream",
     "text": [
      "Polling - last value: 0 received on 1970-01-01 02:00:00\n",
      "Polling - last value: 0 received on 2024-07-17 13:34:43\n",
      "Polling - last value: 0 received on 2024-07-17 13:34:49\n",
      "Polling - last value: 0 received on 2024-07-17 13:34:49\n",
      "Polling - last value: 0 received on 2024-07-17 13:35:01\n",
      "Polling - last value: 0 received on 2024-07-17 13:35:01\n",
      "Polling - last value: 0 received on 2024-07-17 13:35:01\n",
      "Polling - last value: 0 received on 2024-07-17 13:35:01\n",
      "Polling - last value: 0 received on 2024-07-17 13:35:01\n",
      "Polling - last value: 0 received on 2024-07-17 13:35:01\n",
      "Polling - last value: 0 received on 2024-07-17 13:35:01\n",
      "Polling - last value: 0 received on 2024-07-17 13:35:01\n",
      "Polling - last value: 0 received on 2024-07-17 13:35:01\n",
      "Polling - last value: 0 received on 2024-07-17 13:35:01\n",
      "Polling - last value: 0 received on 2024-07-17 13:35:01\n",
      "Polling - last value: 0 received on 2024-07-17 13:35:01\n",
      "Polling - last value: 0 received on 2024-07-17 13:35:01\n",
      "Polling - last value: 0 received on 2024-07-17 13:35:01\n",
      "Polling - last value: 0 received on 2024-07-17 13:35:01\n",
      "Polling - last value: 0 received on 2024-07-17 13:35:01\n",
      "Polling - last value: 0 received on 2024-07-17 13:35:01\n",
      "Polling - last value: 0 received on 2024-07-17 13:35:01\n",
      "Polling - last value: 0 received on 2024-07-17 13:35:01\n",
      "Polling - last value: 0 received on 2024-07-17 13:35:01\n",
      "Polling - last value: 0 received on 2024-07-17 13:35:01\n",
      "Polling - last value: 0 received on 2024-07-17 13:35:01\n",
      "Polling - last value: 0 received on 2024-07-17 13:35:01\n",
      "Polling - last value: 0 received on 2024-07-17 13:35:01\n",
      "Polling - last value: 0 received on 2024-07-17 13:35:01\n",
      "Polling - last value: 0 received on 2024-07-17 13:35:01\n",
      "Polling - last value: 0 received on 2024-07-17 13:35:01\n",
      "Polling - last value: 0 received on 2024-07-17 13:35:01\n",
      "Polling - last value: 0 received on 2024-07-17 13:37:20\n",
      "Polling - last value: 0 received on 2024-07-17 13:37:20\n",
      "Polling - last value: 0 received on 2024-07-17 13:37:31\n",
      "Polling - last value: 0 received on 2024-07-17 13:37:31\n"
     ]
    },
    {
     "name": "stdout",
     "output_type": "stream",
     "text": [
      "Pin: 6 Value: 1 Time Stamp: 2024-07-17 13:34:49\n",
      "Pin: 6 Value: 0 Time Stamp: 2024-07-17 13:34:49\n",
      "Pin: 6 Value: 1 Time Stamp: 2024-07-17 13:34:49\n",
      "Pin: 6 Value: 0 Time Stamp: 2024-07-17 13:34:49\n",
      "Pin: 6 Value: 1 Time Stamp: 2024-07-17 13:35:01\n",
      "Pin: 6 Value: 0 Time Stamp: 2024-07-17 13:35:01\n",
      "Pin: 6 Value: 1 Time Stamp: 2024-07-17 13:37:20\n",
      "Pin: 6 Value: 0 Time Stamp: 2024-07-17 13:37:20\n",
      "Pin: 6 Value: 1 Time Stamp: 2024-07-17 13:37:20\n",
      "Pin: 6 Value: 0 Time Stamp: 2024-07-17 13:37:20\n",
      "Pin: 6 Value: 1 Time Stamp: 2024-07-17 13:37:31\n",
      "Pin: 6 Value: 0 Time Stamp: 2024-07-17 13:37:31\n"
     ]
    },
    {
     "ename": "",
     "evalue": "",
     "output_type": "error",
     "traceback": [
      "\u001b[1;31mThe Kernel crashed while executing code in the current cell or a previous cell. \n",
      "\u001b[1;31mPlease review the code in the cell(s) to identify a possible cause of the failure. \n",
      "\u001b[1;31mClick <a href='https://aka.ms/vscodeJupyterKernelCrash'>here</a> for more info. \n",
      "\u001b[1;31mView Jupyter <a href='command:jupyter.viewOutput'>log</a> for further details."
     ]
    }
   ],
   "source": [
    "# board = pymata4.Pymata4()\n",
    "# board.digital_write(LED_PIN,1)\n",
    "\n",
    "try:\n",
    "    digital_in(board, DIGITAL_PIN)\n",
    "except KeyboardInterrupt:\n",
    "    board.shutdown()\n",
    "    sys.exit(0)\n"
   ]
  },
  {
   "cell_type": "code",
   "execution_count": 8,
   "metadata": {},
   "outputs": [
    {
     "ename": "",
     "evalue": "",
     "output_type": "error",
     "traceback": [
      "\u001b[1;31mThe Kernel crashed while executing code in the current cell or a previous cell. \n",
      "\u001b[1;31mPlease review the code in the cell(s) to identify a possible cause of the failure. \n",
      "\u001b[1;31mClick <a href='https://aka.ms/vscodeJupyterKernelCrash'>here</a> for more info. \n",
      "\u001b[1;31mView Jupyter <a href='command:jupyter.viewOutput'>log</a> for further details."
     ]
    }
   ],
   "source": [
    "board.shutdown()"
   ]
  }
 ],
 "metadata": {
  "kernelspec": {
   "display_name": "stepper1",
   "language": "python",
   "name": "python3"
  },
  "language_info": {
   "codemirror_mode": {
    "name": "ipython",
    "version": 3
   },
   "file_extension": ".py",
   "mimetype": "text/x-python",
   "name": "python",
   "nbconvert_exporter": "python",
   "pygments_lexer": "ipython3",
   "version": "3.11.9"
  }
 },
 "nbformat": 4,
 "nbformat_minor": 2
}
